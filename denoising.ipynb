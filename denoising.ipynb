{
  "nbformat": 4,
  "nbformat_minor": 0,
  "metadata": {
    "kernelspec": {
      "display_name": "Python 3",
      "language": "python",
      "name": "python3"
    },
    "language_info": {
      "codemirror_mode": {
        "name": "ipython",
        "version": 3
      },
      "file_extension": ".py",
      "mimetype": "text/x-python",
      "name": "python",
      "nbconvert_exporter": "python",
      "pygments_lexer": "ipython3",
      "version": "3.7.4"
    },
    "colab": {
      "name": "denoising.ipynb",
      "provenance": [],
      "collapsed_sections": [],
      "toc_visible": true
    },
    "accelerator": "GPU"
  },
  "cells": [
    {
      "cell_type": "markdown",
      "metadata": {
        "id": "bTZMWJ082gCz",
        "colab_type": "text"
      },
      "source": [
        "# CIL: Denoising Postprocessing based on Ising Model"
      ]
    },
    {
      "cell_type": "code",
      "metadata": {
        "id": "ywe3qohO2ktV",
        "colab_type": "code",
        "outputId": "e2eb0523-188f-419b-9a42-d9ed89ad5130",
        "colab": {
          "base_uri": "https://localhost:8080/",
          "height": 122
        }
      },
      "source": [
        "from google.colab import drive\n",
        "drive.mount('/content/drive')"
      ],
      "execution_count": 1,
      "outputs": [
        {
          "output_type": "stream",
          "text": [
            "Go to this URL in a browser: https://accounts.google.com/o/oauth2/auth?client_id=947318989803-6bn6qk8qdgf4n4g3pfee6491hc0brc4i.apps.googleusercontent.com&redirect_uri=urn%3aietf%3awg%3aoauth%3a2.0%3aoob&response_type=code&scope=email%20https%3a%2f%2fwww.googleapis.com%2fauth%2fdocs.test%20https%3a%2f%2fwww.googleapis.com%2fauth%2fdrive%20https%3a%2f%2fwww.googleapis.com%2fauth%2fdrive.photos.readonly%20https%3a%2f%2fwww.googleapis.com%2fauth%2fpeopleapi.readonly\n",
            "\n",
            "Enter your authorization code:\n",
            "··········\n",
            "Mounted at /content/drive\n"
          ],
          "name": "stdout"
        }
      ]
    },
    {
      "cell_type": "code",
      "metadata": {
        "id": "iKgl9Zqw23Vs",
        "colab_type": "code",
        "outputId": "ad811b27-240e-4e74-e4d4-2a90cc0169af",
        "colab": {
          "base_uri": "https://localhost:8080/",
          "height": 34
        }
      },
      "source": [
        "%cd /content/drive/My\\ Drive/CIL"
      ],
      "execution_count": 2,
      "outputs": [
        {
          "output_type": "stream",
          "text": [
            "/content/drive/My Drive/CIL\n"
          ],
          "name": "stdout"
        }
      ]
    },
    {
      "cell_type": "code",
      "metadata": {
        "id": "UQWbn2512gC3",
        "colab_type": "code",
        "colab": {}
      },
      "source": [
        "import matplotlib.image as mpimg\n",
        "import numpy as np\n",
        "import pandas as pd\n",
        "import matplotlib.pyplot as plt\n",
        "from scipy.ndimage import convolve\n",
        "from scipy.signal import fftconvolve\n",
        "from scipy.special import logsumexp\n",
        "from sklearn.metrics.cluster import adjusted_mutual_info_score\n",
        "import sklearn as skl\n",
        "import sklearn\n",
        "\n",
        "import time\n",
        "import warnings\n",
        "\n",
        "warnings.filterwarnings('ignore', category=FutureWarning)\n",
        "\n",
        "import models.unet as unet\n",
        "import preproc.get_data as data\n",
        "import postproc.save_submission as subm \n",
        "import metrics.visual as vis\n",
        "from metrics.visual import plot, plot_training_history\n",
        "import metrics.numerical\n",
        "from skimage.io import imshow"
      ],
      "execution_count": 0,
      "outputs": []
    },
    {
      "cell_type": "code",
      "metadata": {
        "id": "efpFtfLW5fLT",
        "colab_type": "code",
        "outputId": "17bf1c6c-26d4-474c-ffbb-6a0a712e16eb",
        "colab": {
          "base_uri": "https://localhost:8080/",
          "height": 34
        }
      },
      "source": [
        "%tensorflow_version 2.x\n",
        "import tensorflow as tf\n",
        "GPU = tf.test.gpu_device_name()\n",
        "if GPU != '/device:GPU:0':\n",
        "  raise SystemError('GPU device not found')\n",
        "print('Found GPU at: {}'.format(GPU))"
      ],
      "execution_count": 4,
      "outputs": [
        {
          "output_type": "stream",
          "text": [
            "Found GPU at: /device:GPU:0\n"
          ],
          "name": "stdout"
        }
      ]
    },
    {
      "cell_type": "code",
      "metadata": {
        "id": "rriEPlIO2gDF",
        "colab_type": "code",
        "colab": {}
      },
      "source": [
        "# As suggested on Piazza\n",
        "def softmax(x, axis=None):\n",
        "    return np.exp(x - logsumexp(x, axis=axis, keepdims=True))"
      ],
      "execution_count": 0,
      "outputs": []
    },
    {
      "cell_type": "code",
      "metadata": {
        "id": "yfb13iROTazn",
        "colab_type": "code",
        "outputId": "7b39be89-0110-4534-d028-582c09894a99",
        "colab": {
          "base_uri": "https://localhost:8080/",
          "height": 34
        }
      },
      "source": [
        "import importlib\n",
        "importlib.reload(subm)"
      ],
      "execution_count": 0,
      "outputs": [
        {
          "output_type": "execute_result",
          "data": {
            "text/plain": [
              "<module 'postproc.save_submission' from '/content/drive/My Drive/CIL/postproc/save_submission.py'>"
            ]
          },
          "metadata": {
            "tags": []
          },
          "execution_count": 51
        }
      ]
    },
    {
      "cell_type": "code",
      "metadata": {
        "id": "HApE9raF3iOu",
        "colab_type": "code",
        "colab": {}
      },
      "source": [
        "x_train, x_val, y_train, y_val = data.get_training_validation_data(rotate=True, normalise_x=True)"
      ],
      "execution_count": 0,
      "outputs": []
    },
    {
      "cell_type": "code",
      "metadata": {
        "id": "UC39hn448i2M",
        "colab_type": "code",
        "colab": {}
      },
      "source": [
        "x_test, x_test_names = data.get_test_data(normalise_x=True)"
      ],
      "execution_count": 0,
      "outputs": []
    },
    {
      "cell_type": "code",
      "metadata": {
        "id": "almloavi2gDZ",
        "colab_type": "code",
        "colab": {}
      },
      "source": [
        "USE_CLASS_WEIGHTS = True\n",
        "\n",
        "class_weights = None\n",
        "if USE_CLASS_WEIGHTS:\n",
        "    flattened_y = []\n",
        "    for a in y:\n",
        "        flattened_y.extend(a.flatten())\n",
        "    flattened_y = np.asarray(flattened_y)\n",
        "    flattened_y.shape\n",
        "    class_weights = sklearn.utils.class_weight.compute_class_weight('balanced',\n",
        "                                                                    np.unique(flattened_y),\n",
        "                                                                    flattened_y)"
      ],
      "execution_count": 0,
      "outputs": []
    },
    {
      "cell_type": "code",
      "metadata": {
        "id": "4sz6Brjv2gDd",
        "colab_type": "code",
        "colab": {}
      },
      "source": [
        "with tf.device(GPU):\n",
        "  model = unet.get_model(None, None, 3, do_compile=True)"
      ],
      "execution_count": 0,
      "outputs": []
    },
    {
      "cell_type": "code",
      "metadata": {
        "scrolled": false,
        "id": "Z4Jp9PCk2gDl",
        "colab_type": "code",
        "colab": {}
      },
      "source": [
        "with tf.device(GPU):\n",
        "  herstory = unet.fit(x_train, y_train, model, epochs=10, validation_data=(x_val, y_val), class_weight=None)\n",
        "  vis.plot_training_history(herstory)"
      ],
      "execution_count": 0,
      "outputs": []
    },
    {
      "cell_type": "code",
      "metadata": {
        "id": "nbDRt86AA3FE",
        "colab_type": "code",
        "colab": {}
      },
      "source": [
        "with tf.device(GPU):\n",
        "  model = unet.load('checkpoints/unet_crossentr.h5')"
      ],
      "execution_count": 0,
      "outputs": []
    },
    {
      "cell_type": "code",
      "metadata": {
        "scrolled": true,
        "id": "dh3T6GDF2gDx",
        "colab_type": "code",
        "colab": {}
      },
      "source": [
        "with tf.device(GPU):\n",
        "  preds = model.predict(x_test)"
      ],
      "execution_count": 0,
      "outputs": []
    },
    {
      "cell_type": "markdown",
      "metadata": {
        "id": "2Wn2DK0X2gEI",
        "colab_type": "text"
      },
      "source": [
        "**Implementation of the Ising Model Stuff**"
      ]
    },
    {
      "cell_type": "code",
      "metadata": {
        "id": "Uy1ubTMM2gEI",
        "colab_type": "code",
        "colab": {}
      },
      "source": [
        "def energy(img_estimate, img_noisy_observation, H, Beta, Eta):\n",
        "    \"\"\"Compute the energy for given estimate 'img_estimate'\n",
        "    with respect to the  observation 'img_noisy_observation'.\n",
        "\n",
        "    Args:\n",
        "            img_estimate (np.ndarray): estimated image matrix\n",
        "            img_noisy_observation (np.ndarray): noisy image matrix\n",
        "\n",
        "    Returns:\n",
        "            energy (float): energy of the estimate given observation\n",
        "    \"\"\"\n",
        "    kernel = np.asarray([[1,1,1],[1,0,1],[1,1,1]])\n",
        "    neigh_sum = convolve(img_estimate, kernel, mode=\"constant\", cval=0)\n",
        "    return - np.sum(H * img_estimate + \\\n",
        "                    Eta * img_estimate * img_noisy_observation + \\\n",
        "                    Beta * img_estimate * neigh_sum)"
      ],
      "execution_count": 0,
      "outputs": []
    },
    {
      "cell_type": "markdown",
      "metadata": {
        "id": "twT8juwh2gER",
        "colab_type": "text"
      },
      "source": [
        "Estimating loss via mean squared error"
      ]
    },
    {
      "cell_type": "code",
      "metadata": {
        "id": "3BKrADEt2gES",
        "colab_type": "code",
        "colab": {}
      },
      "source": [
        "def mse_loss(img_estimate, img_original):\n",
        "    \"\"\"Computing mean squared error loss\n",
        "\n",
        "    Args:\n",
        "            img_estimate (np.ndarray): estimated image matrix\n",
        "            img_original (np.ndarray): original image matrix\n",
        "\n",
        "    Returns:\n",
        "            mse (float): mean squared error between two matrices\n",
        "    \"\"\"\n",
        "    err = np.sum((img_estimate.astype(\"float\") - img_original.astype(\"float\")) ** 2)\n",
        "    err /= float(img_estimate.shape[0] * img_estimate.shape[1])\n",
        "    return err"
      ],
      "execution_count": 0,
      "outputs": []
    },
    {
      "cell_type": "markdown",
      "metadata": {
        "id": "12MIX8h12gEb",
        "colab_type": "text"
      },
      "source": [
        "Auxiliary function for the local energy computation of the implemented MCMC method."
      ]
    },
    {
      "cell_type": "code",
      "metadata": {
        "id": "mwJFVRDo2gEd",
        "colab_type": "code",
        "colab": {}
      },
      "source": [
        "def pixel_energy(img_estimate, img_noisy_observation, i, j):\n",
        "    \"\"\"Compute the energy localized around a pixel (i,j)\n",
        "\n",
        "    Args:\n",
        "            img_estimate (np.ndarray): estimated image matrix\n",
        "            img_noisy_observation (np.ndarray): noisy image matrix\n",
        "            i,j (double, double): pixel coordinates\n",
        "\n",
        "    Returns:\n",
        "            energy (float): local energy around given pixel\n",
        "    \"\"\"\n",
        "    return - ( H*img_estimate[i,j]+\\\n",
        "               Beta*img_estimate[i,j]*np.sum(img_estimate[i-1:i+2,j-1:j+2])+\\\n",
        "               Eta*img_estimate[i,j]*img_noisy_observation[i,j])"
      ],
      "execution_count": 0,
      "outputs": []
    },
    {
      "cell_type": "code",
      "metadata": {
        "id": "g12Rms192gEf",
        "colab_type": "code",
        "colab": {}
      },
      "source": [
        "def meanfield(img_noisy_observation, img_original, epochs, T=1.0, H=0., Beta=1., Eta=1.):\n",
        "    \"\"\"Do the meanfield approximation to estimate the reconstruction.\n",
        "\n",
        "    Args:\n",
        "            img_noisy_observation (np.ndarray): noisy image matrix\n",
        "            img_original (np.ndarray): original image matrix\n",
        "                - Note: we use it only so we can keep track of the\n",
        "                  MSE drop i.e. for the plotting purposes.\n",
        "            epochs (int): number of iterations\n",
        "\n",
        "    Returns:\n",
        "            img_estimate (np.ndarray): return reconstucted estimate of the original\n",
        "            energies (np.ndarray): energies recorded in arbitary moments during \n",
        "                                      the sampling process, for plotting purposes\n",
        "            losses (np.ndarray): MSE loss wrt original image recorded in arbitary \n",
        "                                 moments during the sampling process, for plotting purposes\n",
        "    \"\"\"\n",
        "    \n",
        "    # Your code should replace the following code, which is given as a placeholder\n",
        "    # and demonstrates how the returned values are used in the rest of the code\n",
        "    \n",
        "    N = img_noisy_observation.shape[0] * img_noisy_observation.shape[1]\n",
        "    Nh = img_noisy_observation.shape[0]\n",
        "    Nw = img_noisy_observation.shape[1]\n",
        "    \n",
        "    energies = losses = None\n",
        "\n",
        "    if not img_original is None:\n",
        "      E = energy(img_noisy_observation, img_noisy_observation, H, Beta, Eta)\n",
        "      L = mse_loss(img_noisy_observation, img_original)\n",
        "      energies = [E]\n",
        "      losses = [L]\n",
        "    \n",
        "    c_bar = img_noisy_observation.copy()\n",
        "    \n",
        "    for e in range(epochs):\n",
        "        a = (1/T) * (Beta * convolve(c_bar, np.asarray([[1,1,1], [1,0,1], [1,1,1]]), mode='constant', cval=0) + Eta * img_noisy_observation + 2*H)\n",
        "        c_bar = np.tanh(a)\n",
        "        \n",
        "        if not img_original is None:\n",
        "          energies.append(energy(c_bar, img_noisy_observation, H, Beta, Eta))\n",
        "          losses.append(mse_loss(c_bar, img_original))\n",
        "        \n",
        "    return np.reshape(c_bar, img_noisy_observation.shape), np.asarray(energies), np.asarray(losses)"
      ],
      "execution_count": 0,
      "outputs": []
    },
    {
      "cell_type": "code",
      "metadata": {
        "id": "c5WZGUQM2gEi",
        "colab_type": "code",
        "colab": {}
      },
      "source": [
        "with tf.device(GPU):\n",
        "  pred_v = model.predict(x_val)"
      ],
      "execution_count": 0,
      "outputs": []
    },
    {
      "cell_type": "code",
      "metadata": {
        "id": "51tWCkYaFVuJ",
        "colab_type": "code",
        "colab": {}
      },
      "source": [
        "def denoise_ising(predictions, epochs=10, T=1, Beta=0.1, Eta=0.1):\n",
        "  denoised = np.zeros((predictions.shape[0], predictions.shape[1], predictions.shape[2]))\n",
        "  for i, pred in enumerate(predictions):\n",
        "    d, _, _ = meanfield(pred[:,:,0], None, epochs=epochs, T=T, Beta=Beta, Eta=Eta)\n",
        "    denoised[i] = d\n",
        "  return denoised"
      ],
      "execution_count": 0,
      "outputs": []
    },
    {
      "cell_type": "code",
      "metadata": {
        "id": "0OuN6AJiGOEQ",
        "colab_type": "code",
        "colab": {}
      },
      "source": [
        "pred_v_denoised = denoise_ising(pred_v > 0.5, Beta=0.1)"
      ],
      "execution_count": 0,
      "outputs": []
    },
    {
      "cell_type": "code",
      "metadata": {
        "id": "OnLnwyotGZfF",
        "colab_type": "code",
        "colab": {}
      },
      "source": [
        "for i in np.random.choice(len(pred_v), 20, replace=False):\n",
        "  plot([x_val[i], y_val[i]])\n",
        "  plot([pred_v[i, :, :, 0], pred_v_denoised[i]])"
      ],
      "execution_count": 0,
      "outputs": []
    },
    {
      "cell_type": "code",
      "metadata": {
        "id": "-1P9V5JoTKwK",
        "colab_type": "code",
        "colab": {}
      },
      "source": [
        "from metrics.numerical import accuracy"
      ],
      "execution_count": 0,
      "outputs": []
    },
    {
      "cell_type": "code",
      "metadata": {
        "id": "wVj0D98jOPkb",
        "colab_type": "code",
        "colab": {}
      },
      "source": [
        "acc_v = accuracy(y_val, pred_v > 0.5)\n",
        "acc_dv = accuracy(y_val, pred_v_denoised > 0.5)"
      ],
      "execution_count": 0,
      "outputs": []
    },
    {
      "cell_type": "code",
      "metadata": {
        "id": "w1pYbve9QcFX",
        "colab_type": "code",
        "outputId": "f91ff5ae-b619-47e0-d832-14811ba60303",
        "colab": {
          "base_uri": "https://localhost:8080/",
          "height": 34
        }
      },
      "source": [
        "acc_v, acc_dv"
      ],
      "execution_count": 0,
      "outputs": [
        {
          "output_type": "execute_result",
          "data": {
            "text/plain": [
              "(0.966638203125, 0.793401875)"
            ]
          },
          "metadata": {
            "tags": []
          },
          "execution_count": 20
        }
      ]
    },
    {
      "cell_type": "code",
      "metadata": {
        "id": "tHGUxETawfHK",
        "colab_type": "code",
        "colab": {}
      },
      "source": [
        "pred_test = model.predict(x_test)"
      ],
      "execution_count": 0,
      "outputs": []
    },
    {
      "cell_type": "code",
      "metadata": {
        "id": "Ox1Kwb7NzCPx",
        "colab_type": "code",
        "colab": {}
      },
      "source": [
        "pred_test_d = denoise_ising(pred_test > 0.5, Beta=0.1)"
      ],
      "execution_count": 0,
      "outputs": []
    },
    {
      "cell_type": "code",
      "metadata": {
        "id": "B-DSXmgo6tx_",
        "colab_type": "code",
        "outputId": "20b27b0d-b5bf-4b3a-e620-5fed2d254e05",
        "colab": {
          "base_uri": "https://localhost:8080/",
          "height": 34
        }
      },
      "source": [
        "subm.save_predictions(pred_test_d, x_test_names, 'ising_denoising', allow_overwrite=True)"
      ],
      "execution_count": 0,
      "outputs": [
        {
          "output_type": "stream",
          "text": [
            "93/94, test_93.png"
          ],
          "name": "stdout"
        }
      ]
    },
    {
      "cell_type": "markdown",
      "metadata": {
        "id": "QvUq-UtV8a4L",
        "colab_type": "text"
      },
      "source": [
        "## Conditional Random Field\n",
        "\n",
        "Reference: Implementation based on https://github.com/Jumpst3r/printed-hw-segmentation/blob/master/FCN/post.py and the accompanying BSc Thesis. It is itself adapted from https://github.com/lucasb-eyer/pydensecrf/tree/master/pydensecrf\n"
      ]
    },
    {
      "cell_type": "code",
      "metadata": {
        "id": "dhMhtvwM8e1T",
        "colab_type": "code",
        "outputId": "84f2a194-fa8e-4477-9742-99991295e699",
        "colab": {
          "base_uri": "https://localhost:8080/",
          "height": 187
        }
      },
      "source": [
        "!pip install pydensecrf"
      ],
      "execution_count": 12,
      "outputs": [
        {
          "output_type": "stream",
          "text": [
            "Collecting pydensecrf\n",
            "\u001b[?25l  Downloading https://files.pythonhosted.org/packages/31/5a/1c2ab48e8019d282c128bc5c621332267bb954d32eecdda3ba57306b1551/pydensecrf-1.0rc3.tar.gz (1.0MB)\n",
            "\u001b[K     |████████████████████████████████| 1.0MB 6.1MB/s \n",
            "\u001b[?25hBuilding wheels for collected packages: pydensecrf\n",
            "  Building wheel for pydensecrf (setup.py) ... \u001b[?25l\u001b[?25hdone\n",
            "  Created wheel for pydensecrf: filename=pydensecrf-1.0rc3-cp36-cp36m-linux_x86_64.whl size=2153655 sha256=53809463c741bd8efc3229cdbd912a871b0adb38894922690fd5f8e52356c87c\n",
            "  Stored in directory: /root/.cache/pip/wheels/92/6f/ec/5c49c25de8c42c872de50ff53582ba3ead850ce52a81e73ac7\n",
            "Successfully built pydensecrf\n",
            "Installing collected packages: pydensecrf\n",
            "Successfully installed pydensecrf-1.0rc3\n"
          ],
          "name": "stdout"
        }
      ]
    },
    {
      "cell_type": "code",
      "metadata": {
        "id": "J5YyzzDi99R_",
        "colab_type": "code",
        "outputId": "59aad46e-d4fa-4a3b-fad3-441247b8e03d",
        "colab": {
          "base_uri": "https://localhost:8080/",
          "height": 255
        }
      },
      "source": [
        "!pip install scikit-image"
      ],
      "execution_count": 13,
      "outputs": [
        {
          "output_type": "stream",
          "text": [
            "Requirement already satisfied: scikit-image in /usr/local/lib/python3.6/dist-packages (0.16.2)\n",
            "Requirement already satisfied: scipy>=0.19.0 in /usr/local/lib/python3.6/dist-packages (from scikit-image) (1.4.1)\n",
            "Requirement already satisfied: networkx>=2.0 in /usr/local/lib/python3.6/dist-packages (from scikit-image) (2.4)\n",
            "Requirement already satisfied: PyWavelets>=0.4.0 in /usr/local/lib/python3.6/dist-packages (from scikit-image) (1.1.1)\n",
            "Requirement already satisfied: imageio>=2.3.0 in /usr/local/lib/python3.6/dist-packages (from scikit-image) (2.4.1)\n",
            "Requirement already satisfied: matplotlib!=3.0.0,>=2.0.0 in /usr/local/lib/python3.6/dist-packages (from scikit-image) (3.2.1)\n",
            "Requirement already satisfied: pillow>=4.3.0 in /usr/local/lib/python3.6/dist-packages (from scikit-image) (7.0.0)\n",
            "Requirement already satisfied: numpy>=1.13.3 in /usr/local/lib/python3.6/dist-packages (from scipy>=0.19.0->scikit-image) (1.18.5)\n",
            "Requirement already satisfied: decorator>=4.3.0 in /usr/local/lib/python3.6/dist-packages (from networkx>=2.0->scikit-image) (4.4.2)\n",
            "Requirement already satisfied: python-dateutil>=2.1 in /usr/local/lib/python3.6/dist-packages (from matplotlib!=3.0.0,>=2.0.0->scikit-image) (2.8.1)\n",
            "Requirement already satisfied: cycler>=0.10 in /usr/local/lib/python3.6/dist-packages (from matplotlib!=3.0.0,>=2.0.0->scikit-image) (0.10.0)\n",
            "Requirement already satisfied: kiwisolver>=1.0.1 in /usr/local/lib/python3.6/dist-packages (from matplotlib!=3.0.0,>=2.0.0->scikit-image) (1.2.0)\n",
            "Requirement already satisfied: pyparsing!=2.0.4,!=2.1.2,!=2.1.6,>=2.0.1 in /usr/local/lib/python3.6/dist-packages (from matplotlib!=3.0.0,>=2.0.0->scikit-image) (2.4.7)\n",
            "Requirement already satisfied: six>=1.5 in /usr/local/lib/python3.6/dist-packages (from python-dateutil>=2.1->matplotlib!=3.0.0,>=2.0.0->scikit-image) (1.12.0)\n"
          ],
          "name": "stdout"
        }
      ]
    },
    {
      "cell_type": "code",
      "metadata": {
        "id": "bFpEzIn89Uhw",
        "colab_type": "code",
        "colab": {}
      },
      "source": [
        "import pydensecrf.densecrf as dcrf\n",
        "from pydensecrf.utils import (unary_from_softmax)\n",
        "from skimage import img_as_ubyte"
      ],
      "execution_count": 0,
      "outputs": []
    },
    {
      "cell_type": "code",
      "metadata": {
        "id": "X7jgwjb_-hsd",
        "colab_type": "code",
        "colab": {}
      },
      "source": [
        "def crf(original, pred, steps=3):\n",
        "  annotated = np.asarray([1 - pred, pred])\n",
        "\n",
        "  original = img_as_ubyte(original)\n",
        "  # annotated = np.moveaxis(annotated, -1, 0)\n",
        "  annotated = annotated.copy(order='C')\n",
        "\n",
        "  d = dcrf.DenseCRF2D(original.shape[1], original.shape[0], 2)\n",
        "  U = unary_from_softmax(annotated)\n",
        "  d.setUnaryEnergy(U)\n",
        "\n",
        "  d.addPairwiseGaussian(sxy=(5,5), compat=10, kernel=dcrf.DIAG_KERNEL, \n",
        "                        normalization=dcrf.NORMALIZE_SYMMETRIC)\n",
        "  d.addPairwiseBilateral(sxy=(80,80), srgb=(13,13,13), rgbim=original, compat=0,\n",
        "                        kernel=dcrf.DIAG_KERNEL, \n",
        "                        normalization=dcrf.NORMALIZE_SYMMETRIC)\n",
        "\n",
        "  Q = d.inference(steps)\n",
        "  MAP = np.argmax(Q, axis=0).reshape(original.shape[0], original.shape[1])\n",
        "\n",
        "  return MAP\n",
        "\n"
      ],
      "execution_count": 0,
      "outputs": []
    },
    {
      "cell_type": "code",
      "metadata": {
        "id": "gtcT8JZ5_8Zt",
        "colab_type": "code",
        "colab": {}
      },
      "source": [
        "pred_crf = [crf(x_val[i], pred_v[i], steps=10) for i in range(len(x_val))]\n",
        "pred_crf = np.asarray(pred_crf)"
      ],
      "execution_count": 0,
      "outputs": []
    },
    {
      "cell_type": "code",
      "metadata": {
        "id": "DDCWcYyeH0qq",
        "colab_type": "code",
        "colab": {
          "base_uri": "https://localhost:8080/",
          "height": 51
        },
        "outputId": "73a22a61-fa30-4514-a690-bd648190fac7"
      },
      "source": [
        "print(accuracy(y_val, pred_v > 0.5))\n",
        "print(accuracy(y_val, pred_crf))"
      ],
      "execution_count": 74,
      "outputs": [
        {
          "output_type": "stream",
          "text": [
            "0.968616171875\n",
            "0.96644109375\n"
          ],
          "name": "stdout"
        }
      ]
    },
    {
      "cell_type": "code",
      "metadata": {
        "id": "hYzLTi3MOByA",
        "colab_type": "code",
        "colab": {}
      },
      "source": [
        ""
      ],
      "execution_count": 0,
      "outputs": []
    }
  ]
}